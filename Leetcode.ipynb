{
 "cells": [
  {
   "cell_type": "code",
   "execution_count": 1,
   "metadata": {},
   "outputs": [],
   "source": [
    "from typing import List"
   ]
  },
  {
   "cell_type": "code",
   "execution_count": 2,
   "metadata": {},
   "outputs": [],
   "source": [
    "# 505. The Maze II\n",
    "\n",
    "from collections import deque\n",
    "\n",
    "class Solution:\n",
    "    def shortestDistance(self, maze: List[List[int]], start: List[int], destination: List[int]) -> int:\n",
    "        n,m = len(maze),len(maze[0])\n",
    "        x0,y0 = start\n",
    "        x1,y1 = destination\n",
    "        visited = {(x0,y0):0}\n",
    "        moves = [(0,1),(0,-1),(1,0),(-1,0)]\n",
    "        queue = deque([(x0,y0)])\n",
    "        \n",
    "        while queue:\n",
    "            x2,y2 = queue.popleft()\n",
    "            for dx,dy in moves:\n",
    "                distance = visited[(x2,y2)]\n",
    "                x,y = x2+dx,y2+dy\n",
    "                while 0 <= x < n and 0 <= y < m and maze[x][y] == 0:\n",
    "                    x,y = x+dx,y+dy\n",
    "                    distance += 1\n",
    "                x,y = x-dx,y-dy\n",
    "                if (x,y) not in visited or distance < visited[(x,y)]:\n",
    "                    visited[(x,y)] = distance\n",
    "                    queue.append((x,y))\n",
    "                    \n",
    "        return visited[(x1,y1)] if (x1,y1) in visited else -1\n",
    "    "
   ]
  },
  {
   "cell_type": "code",
   "execution_count": 3,
   "metadata": {},
   "outputs": [
    {
     "data": {
      "text/plain": [
       "12"
      ]
     },
     "execution_count": 3,
     "metadata": {},
     "output_type": "execute_result"
    }
   ],
   "source": [
    "Solution().shortestDistance([[0,0,1,0,0],[0,0,0,0,0],[0,0,0,1,0],[1,1,0,1,1],[0,0,0,0,0]],(0,4),(4,4))"
   ]
  },
  {
   "cell_type": "code",
   "execution_count": null,
   "metadata": {},
   "outputs": [],
   "source": []
  }
 ],
 "metadata": {
  "kernelspec": {
   "display_name": "Python 3",
   "language": "python",
   "name": "python3"
  },
  "language_info": {
   "codemirror_mode": {
    "name": "ipython",
    "version": 3
   },
   "file_extension": ".py",
   "mimetype": "text/x-python",
   "name": "python",
   "nbconvert_exporter": "python",
   "pygments_lexer": "ipython3",
   "version": "3.7.3"
  }
 },
 "nbformat": 4,
 "nbformat_minor": 4
}
