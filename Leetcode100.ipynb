{
 "cells": [
  {
   "cell_type": "code",
   "execution_count": 5,
   "metadata": {},
   "outputs": [],
   "source": [
    "from typing import List"
   ]
  },
  {
   "cell_type": "code",
   "execution_count": 41,
   "metadata": {},
   "outputs": [],
   "source": [
    "# 15. 3Sum\n",
    "\n",
    "class Solution:\n",
    "    def threeSum(self, nums: List[int]) -> List[List[int]]:\n",
    "        nums.sort()\n",
    "        res = []\n",
    "        for i in range(len(nums) - 2):\n",
    "            if i != 0 and nums[i] == nums[i-1]:\n",
    "                continue\n",
    "            j = i + 1\n",
    "            k = len(nums) - 1\n",
    "            \n",
    "            while j < k:\n",
    "                if nums[i] + nums[j] + nums[k] > 0:\n",
    "                    k -= 1\n",
    "                elif nums[i] + nums[j] + nums[k] < 0:\n",
    "                    j += 1\n",
    "                else:\n",
    "                    res.append([nums[i],nums[j],nums[k]])\n",
    "                    k -= 1\n",
    "                    j += 1\n",
    "                    while j < k and nums[j] == nums[j-1]:\n",
    "                        j += 1\n",
    "                    while j < k and nums[k] == nums[k+1]:\n",
    "                        k -= 1\n",
    "            \n",
    "                    \n",
    "        return res"
   ]
  },
  {
   "cell_type": "code",
   "execution_count": 42,
   "metadata": {},
   "outputs": [
    {
     "data": {
      "text/plain": [
       "[[-1, -1, 2], [-1, 0, 1]]"
      ]
     },
     "execution_count": 42,
     "metadata": {},
     "output_type": "execute_result"
    }
   ],
   "source": [
    "Solution().threeSum([-1,0,1,2,-1,-4])"
   ]
  },
  {
   "cell_type": "code",
   "execution_count": 60,
   "metadata": {},
   "outputs": [],
   "source": [
    "# 18. 4Sum\n",
    "\n",
    "class Solution:\n",
    "    def fourSum(self, nums: List[int], target: int) -> List[List[int]]:\n",
    "        nums.sort()\n",
    "        res = []\n",
    "        for i in range(len(nums) - 3):\n",
    "            if i != 0 and nums[i] == nums[i-1]:\n",
    "                continue\n",
    "            for j in range(i+1, len(nums)-2):\n",
    "                if j != i + 1 and nums[j] == nums[j-1]:\n",
    "                    continue\n",
    "                k = j + 1\n",
    "                w = len(nums) - 1\n",
    "                while k < w:\n",
    "#                     print(i,j,k,w)\n",
    "                    if nums[i] + nums[j] + nums[k] + nums[w] > target:\n",
    "                        w -= 1\n",
    "                    elif nums[i] + nums[j] + nums[k] + nums[w] < target:\n",
    "                        k += 1\n",
    "                    else:\n",
    "                        res.append([nums[i],nums[j],nums[k],nums[w]])\n",
    "                        w -= 1\n",
    "                        k += 1\n",
    "                        while k < w and nums[k] == nums[k-1]:\n",
    "                            k += 1\n",
    "                        while k < w and nums[w] == nums[w+1]:\n",
    "                            w -= 1\n",
    "                    \n",
    "                   \n",
    "        return res\n",
    "        \n",
    "        "
   ]
  },
  {
   "cell_type": "code",
   "execution_count": 61,
   "metadata": {},
   "outputs": [
    {
     "name": "stdout",
     "output_type": "stream",
     "text": [
      "[[-2, -1, 1, 2], [-2, 0, 0, 2], [-1, 0, 0, 1]]\n",
      "[[-4, 0, 1, 2], [-1, -1, 0, 1]]\n"
     ]
    }
   ],
   "source": [
    "print(Solution().fourSum([1,0,-1,0,-2,2],0))\n",
    "print(Solution().fourSum([-1,0,1,2,-1,-4],-1))"
   ]
  },
  {
   "cell_type": "code",
   "execution_count": 6,
   "metadata": {},
   "outputs": [],
   "source": [
    "# 53. Maximum Subarray\n",
    "# Greedy\n",
    "class Solution:\n",
    "    def maxSubArray(self, nums: List[int]) -> int:\n",
    "        sum_global = float('-inf')\n",
    "        sum_local = 0\n",
    "        for num in nums:\n",
    "            if sum_local < 0 :\n",
    "                sum_local = num\n",
    "            else:\n",
    "                sum_local += num\n",
    "            sum_global = max(sum_global, sum_local)\n",
    "            \n",
    "        return sum_global"
   ]
  },
  {
   "cell_type": "code",
   "execution_count": 8,
   "metadata": {},
   "outputs": [
    {
     "data": {
      "text/plain": [
       "6"
      ]
     },
     "execution_count": 8,
     "metadata": {},
     "output_type": "execute_result"
    }
   ],
   "source": [
    "Solution().maxSubArray([-2,1,-3,4,-1,2,1,-5,4])"
   ]
  },
  {
   "cell_type": "code",
   "execution_count": null,
   "metadata": {},
   "outputs": [],
   "source": []
  }
 ],
 "metadata": {
  "kernelspec": {
   "display_name": "Python 3",
   "language": "python",
   "name": "python3"
  },
  "language_info": {
   "codemirror_mode": {
    "name": "ipython",
    "version": 3
   },
   "file_extension": ".py",
   "mimetype": "text/x-python",
   "name": "python",
   "nbconvert_exporter": "python",
   "pygments_lexer": "ipython3",
   "version": "3.7.3"
  }
 },
 "nbformat": 4,
 "nbformat_minor": 4
}
